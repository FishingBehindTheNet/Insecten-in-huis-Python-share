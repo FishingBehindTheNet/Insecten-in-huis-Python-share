{
 "cells": [
  {
   "cell_type": "markdown",
   "metadata": {},
   "source": [
    "## 1.2.3 Aantasters per bouwjaarklasse\n",
    "Dit script is gebruikt om inzicht te krijgen over de verdeling van type aantasters binnen de verschillende Bouwjaar clusters. \n",
    "\n",
    "**Benodigdheden:**\n",
    "Uitgevoerd script: 1_2 & 1_4_1\n",
    "\n",
    "**Dit script is specifiek voor dit onderzoek geschreven en mogelijk niet buiten het project/de dataset inzetbaar.**"
   ]
  },
  {
   "cell_type": "code",
   "execution_count": 1,
   "metadata": {},
   "outputs": [],
   "source": [
    "# Laad de benodigde ondersteunende bibliotheken in\n",
    "from pathlib import Path\n",
    "import pandas as pd\n",
    "import os"
   ]
  },
  {
   "cell_type": "markdown",
   "metadata": {},
   "source": [
    "**Excel:**"
   ]
  },
  {
   "cell_type": "code",
   "execution_count": 2,
   "metadata": {},
   "outputs": [],
   "source": [
    "# Vul hieronder het pad naar je Excel bestand in. \n",
    "# Laat hierbij het \"Path(r\"..\")\" intact.\n",
    "ExelFile = Path(r\"Output/Resultaat, TestInput['Sheet1'], BAG['bouwjaar', 'geometry'].xlsx\")\n",
    "\n",
    "# Geef hier de kolomnaam van de kolom met aantasters classificering\n",
    "KolomNaam = 'Aantasters'"
   ]
  },
  {
   "cell_type": "code",
   "execution_count": 3,
   "metadata": {},
   "outputs": [
    {
     "name": "stdout",
     "output_type": "stream",
     "text": [
      "Excel bestand inlezen...\n",
      "Berekenen...\n",
      "Output opslaan...\n",
      "Output locatie: c:\\Users\\Sjoer\\AAA-Python\\Insecten in huis\\IIH_Repo\\Bijlage 1, Definitief\\Scripts\\Output\\Resultaat, TestInput['Sheet1'], BAG['bouwjaar', 'geometry']_Aantasters_p_Bouwjaar.xlsx\n"
     ]
    }
   ],
   "source": [
    "# hieronder wordt de excel ingelezen\n",
    "print(\"Excel bestand inlezen...\")\n",
    "df = pd.read_excel(ExelFile)\n",
    "\n",
    "#groepering van de data op bouwjaargroep en aantasters\n",
    "print(\"Berekenen...\")\n",
    "OutputDF = df.groupby(['Bouwjaar Clusters', KolomNaam]).size().reset_index(name='Aantal waarnemingen')\n",
    "\n",
    "# Slaat het bestand op in excel\n",
    "print(\"Output opslaan...\")\n",
    "if not os.path.exists(\"Output\"):\n",
    "    os.makedirs(\"Output\")\n",
    "OutputDF.to_excel(f\"Output\\{ExelFile.stem}_Aantasters_p_Bouwjaar.xlsx\")\n",
    "print(rf\"Output locatie: {os.getcwd()}\\Output\\{ExelFile.stem}_Aantasters_p_Bouwjaar.xlsx\")\n",
    "\n"
   ]
  }
 ],
 "metadata": {
  "kernelspec": {
   "display_name": ".venv",
   "language": "python",
   "name": "python3"
  },
  "language_info": {
   "codemirror_mode": {
    "name": "ipython",
    "version": 3
   },
   "file_extension": ".py",
   "mimetype": "text/x-python",
   "name": "python",
   "nbconvert_exporter": "python",
   "pygments_lexer": "ipython3",
   "version": "3.11.7"
  }
 },
 "nbformat": 4,
 "nbformat_minor": 2
}
