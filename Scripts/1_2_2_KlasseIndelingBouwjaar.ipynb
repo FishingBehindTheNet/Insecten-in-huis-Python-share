{
 "cells": [
  {
   "cell_type": "markdown",
   "metadata": {},
   "source": [
    "# 1.2.2 Klasse indeling bouwjaar\n",
    "Dit script is geschreven om verzamelde bouwjaardata op te delen in bouwjaar groepen. Het script genereert een nieuwe kolom in het input bestand waar op basis van opgegeven tijdspannen waardes 1 tot n worden toegewezen. \n",
    "\n",
    "**Benodigdheden:**\n",
    "Uitvoering van script: 1_2\n",
    "\n",
    "**Dit script is doelmatig geschreven en mogelijk niet buiten het project/de dataset inzetbaar.**"
   ]
  },
  {
   "cell_type": "code",
   "execution_count": 4,
   "metadata": {},
   "outputs": [],
   "source": [
    "# Laad de benodigde ondersteunende bibliotheken in\n",
    "from pathlib import Path\n",
    "import pandas as pd"
   ]
  },
  {
   "cell_type": "markdown",
   "metadata": {},
   "source": [
    "Geef hier de locatie van het excel bestand en de kolomnaam met de bouwjaren. Geef hier ook de tijdspannen voor de bouwjaarclusters. De hoeveelheid groeperingen is afhankelijk van de gegeven tijdspanen en heeft geen limiet.\n",
    "Let op: De nieuwe kolom word in het input bestand toegevoegd, zorg dus altijd voor een backup"
   ]
  },
  {
   "cell_type": "code",
   "execution_count": 5,
   "metadata": {},
   "outputs": [],
   "source": [
    "# Pad naar excel file\n",
    "ExcelFile = Path(r\"Output/Resultaat, TestInput['Sheet1'], BAG['bouwjaar', 'geometry'].xlsx\")\n",
    "\n",
    "# kolom naam van kolom met bouwjaren\n",
    "KolomNaam = \"bouwjaar\"\n",
    "\n",
    "# klasse waarden van de bouwjaren\n",
    "BouwjaarIntervallen = [[1000, 1800], [1801, 1900], [1901, 1940], [1941, 1980], [1981, 2005]]"
   ]
  },
  {
   "cell_type": "markdown",
   "metadata": {},
   "source": [
    "**Script:**"
   ]
  },
  {
   "cell_type": "code",
   "execution_count": 6,
   "metadata": {},
   "outputs": [
    {
     "name": "stdout",
     "output_type": "stream",
     "text": [
      "Kolommen zijn toegevoegd aan het input Excel\n"
     ]
    }
   ],
   "source": [
    "# vaste waarde\n",
    "KolomNaamClusters = 'Bouwjaar Clusters'\n",
    "\n",
    "# excel bestand met de ongesorteerde bouwjaren\n",
    "df = pd.read_excel(ExcelFile)\n",
    "\n",
    "# Filter voorspelbare fouten uit\n",
    "if KolomNaamClusters in df.columns:\n",
    "    print(f\"Kolom '{KolomNaamClusters}' al toegevoegd\")\n",
    "elif KolomNaam not in df.columns:\n",
    "    print(f\"'{KolomNaam}' bestaat niet, controleer de spelling\")\n",
    "else:\n",
    "    # maakt kolom aan voor de clusters\n",
    "    df[KolomNaamClusters] = float('nan')\n",
    "\n",
    "    #toewijzen van codes per jaartalgroep, beginnend met 1 \n",
    "    for code, (start, end) in enumerate(BouwjaarIntervallen, start=1):\n",
    "        df.loc[(df[KolomNaam] >= start) & (df[KolomNaam] <= end), KolomNaamClusters] = code\n",
    "\n",
    "    # Slaat de nieuwe versie van de excel op\n",
    "    df.to_excel(ExcelFile, index=False, engine='openpyxl')\n",
    "    print(\"Kolommen zijn toegevoegd aan het input Excel\")"
   ]
  }
 ],
 "metadata": {
  "kernelspec": {
   "display_name": ".venv",
   "language": "python",
   "name": "python3"
  },
  "language_info": {
   "codemirror_mode": {
    "name": "ipython",
    "version": 3
   },
   "file_extension": ".py",
   "mimetype": "text/x-python",
   "name": "python",
   "nbconvert_exporter": "python",
   "pygments_lexer": "ipython3",
   "version": "3.11.7"
  }
 },
 "nbformat": 4,
 "nbformat_minor": 2
}
