{
 "cells": [
  {
   "cell_type": "markdown",
   "metadata": {},
   "source": [
    "## **1.2.1 Extractie attributendata uit vectorlaag op basis van puntdata**\n",
    "Om de invloed van populatiedichtheid en bouwjaar op de waarnemingen te onderzoeken zijn er data verzameld uit [Statistische gegevens per vierkant 2015]( https://www.cbs.nl/nl-nl/dossier/nederland-regionaal/geografische-data/kaart-van-100-meter-bij-100-meter-met-statistieken) (Populatie dichtheid) en uit [Basisregistratie Adressen en Gebouwen (BAG)]( https://www.digitaleoverheid.nl/overzicht-van-alle-onderwerpen/stelsel-van-basisregistraties/10-basisregistraties/bag/) (bouwjaar).\n",
    "\n",
    "'Statistische gegevens per vierkant 2015' bevat statistische gegevens van het CBS over demografie, wonen, energie, sociale zekerheid, dichtheid en nabijheid van voorzieningen gegeven in vakken van 100 bij 100 meter. De data zijn aangeleverd als attributen van een vector kaart. De data uit deze kaart laag zijn verzameld met een puntextractie script wat berekend binnen welk polygoon een coördinaat valt en uit dit polygoon de aangegeven attributen kopieert.\n",
    "\n",
    "BAG is een dataset die informatie bevat over alle adressen en gebouwen in Nederland, zoals het bouwjaar. Deze gegevens worden door gemeenten centraal beschikbaar gesteld via de Landelijke Voorziening BAG (LV BAG). De data zijn aangeleverd in de vorm van een geodatabase met verschillende kaartlagen. Afgezien van de noodzaak om een specifieke kaartlaag te selecteren, is hetzelfde script dat in de voorgaande alinea wordt toegepast, ook hier van toepassing.\n",
    "\n"
   ]
  },
  {
   "cell_type": "code",
   "execution_count": 2,
   "metadata": {},
   "outputs": [],
   "source": [
    "# Laad de benodigde ondersteunende bibliotheken in\n",
    "from shapely.geometry import Point\n",
    "from pyproj import CRS as ProjCRS\n",
    "from pathlib import Path\n",
    "import geopandas as gpd\n",
    "import pandas as pd\n",
    "import pyproj\n",
    "import sys\n",
    "import os"
   ]
  },
  {
   "cell_type": "markdown",
   "metadata": {},
   "source": [
    "## Intro en settings\n",
    "Deze code is bedoeld om data uit de attributentabel van polygons te linken aan puntdata in een Excel sheet. De puntdata moeten gegeven worden in Rijksdriehoekscoördinaten (RD-coördinaten) waarbij de X en Y component in losse kolommen gegeven wordt. Het gegeven Excel bestand hoeft veder niet leeg van data te zijn en kan zelfs meerdere tabbladen bevatten. Om dit te accommoderen wordt wel gevraagd om de naam van het tabblad en de kolommen met de coördinaten op voorhand te selecteren."
   ]
  },
  {
   "cell_type": "markdown",
   "metadata": {},
   "source": [
    "**Excel:**"
   ]
  },
  {
   "cell_type": "code",
   "execution_count": 3,
   "metadata": {},
   "outputs": [],
   "source": [
    "# Vul hieronder het pad naar je Excel bestand in. \n",
    "# Laat hierbij het \"Path(r\"..\")\" intact.\n",
    "ExcelVraag = Path(r\"Input_data/TestInput.xlsx\")\n",
    "\n",
    "# Geef hier de naam van de Excel sheet met de coördinaten voor de extractie.\n",
    "ExcelSheet = \"Sheet1\"\n",
    "\n",
    "# Geef hier de Kolommen van de Excel sheet met coördinaten. \n",
    "# Dit script werkt voor RD coördinaten en gaat er vanuit dat de X en Y coördinaten in losse kolommen staan\n",
    "ExcelX = \"RDX\"\n",
    "ExcelY = \"RDY\"\n",
    "\n",
    "# Defineer het coordinaten systeem van de observaties en van de rasterkaart\n",
    "Waarnemingen_crs = pyproj.CRS(\"EPSG:28992\")  # Amersfoort RD New"
   ]
  },
  {
   "cell_type": "markdown",
   "metadata": {},
   "source": [
    "De polygonen en attributen tabel waar data uit verzameld word is gelinkt aan een kaart bestand in de vorm van een .shp of een .gdb (dit is een map en niet een los bestand). In dit laatste geval moet naast de locatie van de kaart ook het de specifieke kaart laag aangegeven worden. Deze kan gevonden worden door de .gdb in te laden in een GIS programma en de naam van het kaart component over te nemen.\n",
    "\n",
    "Daarnaast is het nodig de kolomnaam van de data die gekopieerd gaat worden uit de attributen tabel te noteren. Het is mogelijk meerdere attributen van dezelfde kaart(laag) in een keer over te nemen. De notatie hiervoor is als volgt:\n",
    "\n",
    "KaartKolommen = [\"Kolomnaam 1\", \"Kolomnaam 2\", \"etc.\"]"
   ]
  },
  {
   "cell_type": "markdown",
   "metadata": {},
   "source": [
    "**Kaart / Shape file:**"
   ]
  },
  {
   "cell_type": "code",
   "execution_count": 4,
   "metadata": {},
   "outputs": [],
   "source": [
    "# Locatie van de kaart.shp of kaart.gdb\n",
    "# Laat hierbij het \"Path(r\"..\")\" intact.\n",
    "Kaart = Path(r\"Input_data/basisregistratie_adressen_en_gebouwen_(BAG)_05-10-2021/BAG.gdb\")\n",
    "\n",
    "# Geef hier de naam van de kaartlaag als de geselecteerde kaart een .gdb bestand is\n",
    "Kaartlaag = \"Pand\"\n",
    "\n",
    "# De naam van de kolom(men) met de data die je wil linken\n",
    "KaartKolommen = [\"bouwjaar\"]\n"
   ]
  },
  {
   "cell_type": "markdown",
   "metadata": {},
   "source": [
    "## Het script"
   ]
  },
  {
   "cell_type": "code",
   "execution_count": 5,
   "metadata": {},
   "outputs": [
    {
     "name": "stdout",
     "output_type": "stream",
     "text": [
      "BAG.gdb word ingelanden. afhankelijk van de bestandsgrote kan dit enkele minuten duren.\n",
      "Excel data verwerken...\n",
      "puntdata en kaartlaag vergelijken...\n",
      "Output opslaan...\n",
      "Output locatie: c:\\Users\\Sjoer\\AAA-Python\\Insecten in huis\\IIH_Repo\\Bijlage 1, Definitief\\Scripts/Output/Resultaat, TestInput['Sheet1'], BAG['bouwjaar', 'geometry'].xlsx\n"
     ]
    }
   ],
   "source": [
    "# Lees het kaart-bestand in. Als het niet van het goede bestandstype is word het script onderbroken.\n",
    "if 'KaartGDF' not in globals():\n",
    "    if Kaart.suffix == \".gdb\":\n",
    "        print(f\"{Kaart.stem + Kaart.suffix} word ingelanden. afhankelijk van de bestandsgrote kan dit enkele minuten duren.\")\n",
    "        KaartGDF = gpd.read_file(Kaart, layer=Kaartlaag, engine=\"pyogrio\", use_arrow=True)\n",
    "    elif Kaart.suffix == \".shp\":\n",
    "        print(f\"{Kaart.stem + Kaart.suffix} word ingelanden. afhankelijk van de bestandsgrote kan dit enkele minuten duren\")\n",
    "        KaartGDF = gpd.read_file(Kaart, engine=\"pyogrio\")\n",
    "    else:\n",
    "        sys.exit(f\"Script gestopt. Het kaart bestand is {Kaart.suffix}, dit moet type .gdb of .shp zijn\")\n",
    "else:\n",
    "    print(f\"{Kaart.stem + Kaart.suffix} ophalen uit memory...\")\n",
    "\n",
    "# Filtert de kaartdata zodat alleen de coördinaatdata en gewenste kolommen overblijven\n",
    "KaartKolommenFilter = KaartKolommen\n",
    "KaartKolommenFilter.append(\"geometry\")\n",
    "KaartFiltertGDF = KaartGDF.filter(KaartKolommenFilter)\n",
    "\n",
    "# Lees het Excel-bestand\n",
    "print(\"Excel data verwerken...\")\n",
    "ExcelData = pd.read_excel(ExcelVraag, sheet_name=ExcelSheet)\n",
    "\n",
    "if Waarnemingen_crs != KaartFiltertGDF.crs:\n",
    "    # Maakt een transformer\n",
    "    transformer = pyproj.Transformer.from_crs(Waarnemingen_crs, KaartFiltertGDF.crs, always_xy=True)\n",
    "    # Voert de transformatie uit en maakt nieuwe kolommen\n",
    "    ExcelData[ExcelX], ExcelData[ExcelY] = transformer.transform(ExcelData[ExcelX], ExcelData[ExcelY])\n",
    "    \n",
    "# Maak een nieuwe kolom 'geometry' in df met behulp van de x en y coördinaten\n",
    "ExcelData[\"CoördinatenCode\"] = ExcelData.apply(lambda row: Point(row[ExcelX], row[ExcelY]), axis=1)\n",
    "\n",
    "# Converteer de DataFrame naar een GeoDataFrame\n",
    "ExcelGDF = gpd.GeoDataFrame(ExcelData, geometry=\"CoördinatenCode\")\n",
    "\n",
    "# Zorg ervoor dat beide GeoDataFrames dezelfde CRS gebruiken\n",
    "ExcelGDF.set_crs(KaartFiltertGDF.crs, inplace=True)\n",
    "\n",
    "# Voeg de polygon informatie toe aan de punten\n",
    "print(\"puntdata en kaartlaag vergelijken...\")\n",
    "ResultaatGDF = gpd.sjoin(ExcelGDF, KaartFiltertGDF, predicate='within')\n",
    "\n",
    "# verwijder onnodige kolommen\n",
    "ResultaatGDF.drop(columns=[\"CoördinatenCode\", \"index_right\"], axis=1, inplace=True)\n",
    "\n",
    "# Sla het resultaat op in een nieuw Excel-bestand\n",
    "print(\"Output opslaan...\")\n",
    "if not os.path.exists(\"Output\"):\n",
    "    os.makedirs(\"Output\")\n",
    "ResultaatGDF.to_excel(f\"Output/Resultaat, {ExcelVraag.stem}['{ExcelSheet}'], {Kaart.stem}{KaartKolommen}.xlsx\")\n",
    "print(rf\"Output locatie: {os.getcwd()}/Output/Resultaat, {ExcelVraag.stem}['{ExcelSheet}'], {Kaart.stem}{KaartKolommen}.xlsx\")"
   ]
  }
 ],
 "metadata": {
  "kernelspec": {
   "display_name": ".IIH venv",
   "language": "python",
   "name": "python3"
  },
  "language_info": {
   "codemirror_mode": {
    "name": "ipython",
    "version": 3
   },
   "file_extension": ".py",
   "mimetype": "text/x-python",
   "name": "python",
   "nbconvert_exporter": "python",
   "pygments_lexer": "ipython3",
   "version": "3.11.7"
  }
 },
 "nbformat": 4,
 "nbformat_minor": 2
}
