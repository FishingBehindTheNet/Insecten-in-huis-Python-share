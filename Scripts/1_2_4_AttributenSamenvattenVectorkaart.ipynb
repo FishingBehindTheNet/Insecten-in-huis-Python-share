{
 "cells": [
  {
   "cell_type": "markdown",
   "metadata": {},
   "source": [
    "## **1.2.4 Extractie Totaal attributen data uit vectorlaag**\n",
    "Voor de data analyse van de waarnemingen per huizen binnen een bouwjaar cluster is gewerkt met het aandeel huizen binnen een bouwjaar cluster. Hiervoor is met dit script bepaalt hoeveel huizen in Nederland binnen ieder bouwjaar cluster vallen volgens het [Basisregistratie Adressen en Gebouwen (BAG)]( https://www.digitaleoverheid.nl/overzicht-van-alle-onderwerpen/stelsel-van-basisregistraties/10-basisregistraties/bag/).\n",
    "\n",
    "**Dit script is doelmatig geschreven en mogelijk niet buiten het project/de dataset inzetbaar.**"
   ]
  },
  {
   "cell_type": "code",
   "execution_count": 1,
   "metadata": {},
   "outputs": [],
   "source": [
    "from pathlib import Path\n",
    "import geopandas as gpd\n",
    "import pandas as pd\n",
    "import sys\n",
    "import os"
   ]
  },
  {
   "cell_type": "markdown",
   "metadata": {},
   "source": [
    "De code is doelmatig geschreven en heeft hierdoor weinig flexebiliteit. Wel moet de locatie van de kaart opgegeven worden en is het mogelijk de range van de clusters te veranderen."
   ]
  },
  {
   "cell_type": "code",
   "execution_count": 2,
   "metadata": {},
   "outputs": [],
   "source": [
    "# Geef hier de locatie van de BAG.gdb\n",
    "Kaart = Path(r\"Input_data/basisregistratie_adressen_en_gebouwen_(BAG)_05-10-2021/BAG.gdb\")\n",
    "\n",
    "# Naam van de Kaartlaag binnen het BAG.gdb waar de bouwjaren in benoemd staan\n",
    "Kaartlaag = \"Pand\"\n",
    "\n",
    "# Kolom naam met bouwjaren\n",
    "KolomNaam = \"bouwjaar\"\n",
    "\n",
    "# Geef hier de ranges van de bouwjaar clusters\n",
    "Clusters = [[1000, 1600], [1601, 1800], [1801, 1900], [1901, 1940], [1941, 1980], [1981, 2005]]"
   ]
  },
  {
   "cell_type": "markdown",
   "metadata": {},
   "source": [
    "## Het script"
   ]
  },
  {
   "cell_type": "code",
   "execution_count": 3,
   "metadata": {},
   "outputs": [
    {
     "name": "stdout",
     "output_type": "stream",
     "text": [
      "BAG.gdb word ingelanden. afhankelijk van de bestandsgrote kan dit enkele minuten duren.\n",
      "Berekenen...\n",
      "Opslaan...\n",
      "Output locatie: Output/Totaal bouwjaar BAG.xlsx\n"
     ]
    }
   ],
   "source": [
    "# Lees het kaart-bestand in. Als het niet van het goede bestandstype is word het script onderbroken.\n",
    "if 'KaartGDF' not in globals():\n",
    "    if Kaart.suffix == \".gdb\":\n",
    "        print(f\"{Kaart.stem + Kaart.suffix} word ingelanden. afhankelijk van de bestandsgrote kan dit enkele minuten duren.\")\n",
    "        KaartGDF = gpd.read_file(Kaart, layer=Kaartlaag, engine=\"pyogrio\", use_arrow=True)\n",
    "    else:\n",
    "        sys.exit(f\"Script gestopt. Het kaart bestand is {Kaart.suffix}, dit moet type .gdb zijn\")\n",
    "\n",
    "print(\"Berekenen...\")\n",
    "\n",
    "# Maakt een nieuwe kolom in de KaartGDF van de kaart en classificeert voor iedere regel in welk cluster deze past\n",
    "KaartGDF['Cluster'] = pd.cut(KaartGDF[KolomNaam], bins=[cls[0] - 1 for cls in Clusters] + [Clusters[-1][1]], labels=[f'{cls[0]}-{cls[1]}' for cls in Clusters])\n",
    "\n",
    "# Telt het aantal regels wa aan ieder cluster is toegewezen en slaat de uitkomsten op in \"OutputDF\"\n",
    "HuizenPerCluster = KaartGDF['Cluster'].value_counts().sort_index()\n",
    "OutputDF = pd.DataFrame({'Clusters': HuizenPerCluster.index, 'Aantal': HuizenPerCluster.values})\n",
    "\n",
    "# Maakt een kolom aan in \"OutputDF\" met waardes 1 tot 6 voor gemakkelijkere verwijzingen in latere analyses\n",
    "OutputDF['Jaargroep code'] = range(1, len(OutputDF) + 1)\n",
    "\n",
    "# Veranderd de volgorde van de kolommen voor overzicht\n",
    "OutputDF = OutputDF[['Jaargroep code', 'Clusters', 'Aantal']]\n",
    "\n",
    "# Slaat de output op in een excel bestand\n",
    "print(\"Opslaan...\")\n",
    "if not os.path.exists(\"Output\"):\n",
    "    os.makedirs(\"Output\")\n",
    "excel_file = rf\"Output/Totaal bouwjaar {Kaart.stem}.xlsx\"\n",
    "OutputDF.to_excel(excel_file, index=False, engine='openpyxl')\n",
    "print(f\"Output locatie: {excel_file}\")\n"
   ]
  }
 ],
 "metadata": {
  "kernelspec": {
   "display_name": ".venv",
   "language": "python",
   "name": "python3"
  },
  "language_info": {
   "codemirror_mode": {
    "name": "ipython",
    "version": 3
   },
   "file_extension": ".py",
   "mimetype": "text/x-python",
   "name": "python",
   "nbconvert_exporter": "python",
   "pygments_lexer": "ipython3",
   "version": "3.11.7"
  }
 },
 "nbformat": 4,
 "nbformat_minor": 2
}
