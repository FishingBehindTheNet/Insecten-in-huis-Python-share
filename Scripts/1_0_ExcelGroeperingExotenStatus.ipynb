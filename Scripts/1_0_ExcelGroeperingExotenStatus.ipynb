{
 "cells": [
  {
   "cell_type": "markdown",
   "metadata": {},
   "source": [
    "# 1.0 Exoten status kolom toevoegen\n",
    "Dit script is geschreven voor het omzetten van de exotenstatus (1, 2, 2a etc.) naar een versimpeld format (Exoot, inheems, onbekend).\n",
    "\n",
    "**Dit script is doelmatig geschreven en mogelijk niet buiten het project/de dataset inzetbaar.**"
   ]
  },
  {
   "cell_type": "code",
   "execution_count": 1,
   "metadata": {},
   "outputs": [],
   "source": [
    "# Laad de benodigde ondersteunende bibliotheken in\n",
    "from pathlib import Path\n",
    "import pandas as pd\n",
    "import numpy as np\n",
    "import os"
   ]
  },
  {
   "cell_type": "markdown",
   "metadata": {},
   "source": [
    "Geef hier de Input excel en de kolom in de excel waar de \"oude\" exoten status genoteerd staat. \n",
    "Let op: De nieuwe kolom word in het input bestand toegevoegd, zorg dus altijd voor een backup"
   ]
  },
  {
   "cell_type": "code",
   "execution_count": 2,
   "metadata": {},
   "outputs": [],
   "source": [
    "# Vul hieronder het pad naar je Excel bestand in. \n",
    "# Laat hierbij het \"Path(r\"..\")\" in tact.\n",
    "ExcelFile = Path(r\"Input_data/TestInput.xlsx\")\n",
    "\n",
    "# kolom naam van kolom met de originele exoten statussen\n",
    "KolomNaam = \"ExotenStatus\""
   ]
  },
  {
   "cell_type": "markdown",
   "metadata": {},
   "source": [
    "**Script:**"
   ]
  },
  {
   "cell_type": "code",
   "execution_count": 4,
   "metadata": {},
   "outputs": [
    {
     "name": "stdout",
     "output_type": "stream",
     "text": [
      "Excel bestand inlezen...\n",
      "Kolom 'Status' bestaat al. Script beëindigt\n"
     ]
    }
   ],
   "source": [
    "# vaste waarde\n",
    "KolomNaamNieuw = 'Status'\n",
    "\n",
    "# leest het excel in\n",
    "df = pd.read_excel(ExcelFile)\n",
    "print(\"Excel bestand inlezen...\")\n",
    "\n",
    "# Checkt of inputwaarde kloppen en of Nieuwe kolom al bestaat\n",
    "if KolomNaamNieuw in df.columns:\n",
    "    print(f\"Kolom '{KolomNaamNieuw}' bestaat al. Script beëindigt.\")\n",
    "elif KolomNaam not in df.columns:\n",
    "    print(f\"'{KolomNaam}' bestaat niet, controleer de spelling\")\n",
    "else:\n",
    "    print(\"verwerken...\")\n",
    "    # controleert de waardes van de \"oude\" exotenstatus en vertaalt deze naar de nieuwe notatie\n",
    "    df[KolomNaamNieuw] = np.where(\n",
    "        (df[KolomNaam] == 2) | \n",
    "        (df[KolomNaam] == '2a') | \n",
    "        (df[KolomNaam] == '2b') | \n",
    "        (df[KolomNaam] == '2c') | \n",
    "        (df[KolomNaam] == '2d'), \n",
    "    'Exoot',\n",
    "        np.where(\n",
    "            (df[KolomNaam] == '1a'), \n",
    "        'Inheems', \n",
    "    'Onbekend')\n",
    "    )\n",
    "    # slaat data op in de input excel\n",
    "    df.to_excel(ExcelFile)\n",
    "    print(f\"Output opgeslagen op: {ExcelFile}\")"
   ]
  }
 ],
 "metadata": {
  "kernelspec": {
   "display_name": ".IIH venv",
   "language": "python",
   "name": "python3"
  },
  "language_info": {
   "codemirror_mode": {
    "name": "ipython",
    "version": 3
   },
   "file_extension": ".py",
   "mimetype": "text/x-python",
   "name": "python",
   "nbconvert_exporter": "python",
   "pygments_lexer": "ipython3",
   "version": "3.11.7"
  }
 },
 "nbformat": 4,
 "nbformat_minor": 2
}
