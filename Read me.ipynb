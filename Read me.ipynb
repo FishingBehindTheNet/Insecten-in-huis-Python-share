{
 "cells": [
  {
   "cell_type": "markdown",
   "metadata": {},
   "source": [
    "# **Bijlage 1: Scripts gebruikt tijdens het project**\n",
    "Tijdens de loop van het project zijn verschillende scripts geschreven voor de extractie en/of verzameling van data uit verschillende bronnen. De codes  (geschreven voor [python 3.11](https://www.python.org/downloads/release/python-3110/) met bibliotheken opgesomd in [requirements.txt](requirements.txt)) en de desbetreffende functies staan hieronder beschreven met verwijzingen naar de volledige codes."
   ]
  },
  {
   "cell_type": "markdown",
   "metadata": {},
   "source": [
    "# Inhoudsopgave\n",
    "\n",
    "<style>\n",
    "td:first-child {{\n",
    "    text-align: right;\n",
    "}}\n",
    "td:last-child {{\n",
    "    text-align: left;\n",
    "}}\n",
    "</style>\n",
    "<table>\n",
    "<tr>\n",
    "    <td><b>Bijlage</b></td>\n",
    "    <td><b>Script</b></td>\n",
    "    <td><b>Doel</b></td>\n",
    "</tr>\n",
    "<tr>\n",
    "    <td>1.0</td>\n",
    "    <td><a href=\"./Scripts/1_0_ExcelGroeperingExotenStatus.ipynb\">Exoten status </a></td>\n",
    "    <td>Dit script is geschreven om de input data aan te passen. De verschillende exoot statussen worden hier opgedeeld in drie simpele termen: \"exoot\", \"inheems\" en \"onbekend\". </td>\n",
    "</tr>\n",
    "<tr>\n",
    "    <td>1.1.1</td>\n",
    "    <td><a href=\"./Scripts/1_1_1_BufferdataExtractieRasterData.ipynb\">Extractie rasterdata binnen buffers</a></td>\n",
    "    <td>Dit script trekt buffers om de waarnemingen heen en extraheerd vervolgens daarbinnen data uit de rasterkaart. </td>\n",
    "</tr>\n",
    "<tr>\n",
    "    <td>1.1.2</td>\n",
    "    <td><a href=\"./Scripts/1_1_2_StatsPerGroup.ipynb\">Statistieken per groep</a></td>\n",
    "    <td>Dit script vat de buffer analyse statistisch samen per groep. </td>\n",
    "</tr>\n",
    "<tr>\n",
    "    <td>1.2.1</td>\n",
    "    <td><a href=\"./Scripts/1_2_1_PuntExtractieAttributen.ipynb\">Extractie attributendata uit vectorlaag op basis van puntdata</a></td>\n",
    "    <td>Dit script haalt de bouwjaardata op uit de BAG kaart voor elke waarneming. </td>\n",
    "</tr>\n",
    "<tr>\n",
    "    <td>1.2.2</td>\n",
    "    <td><a href=\"./Scripts/1_2_2_KlasseIndelingBouwjaar.ipynb\">Klasse indeling bouwjaar</a></td>\n",
    "    <td>Dit script deelt de verzamelde bouwjaardata op in bouwjaar groepen. </td>\n",
    "</tr>\n",
    "<tr>\n",
    "    <td>1.2.3</td>\n",
    "    <td><a href=\"./Scripts/1_2_3_AantastersPerBouwjaarklasse.ipynb\">Aantasters per bouwjaarklasse</a></td>\n",
    "    <td>Dit script wordt de bouwjaar data samengevat per aantaster groep. </td>\n",
    "</tr>\n",
    "<tr>\n",
    "    <td>1.2.4</td>\n",
    "    <td><a href=\"./Scripts/1_2_4_AttributenSamenvattenVectorkaart.ipynb\">Huizen per bouwjaarklasse</a></td>\n",
    "    <td>In dit script wordt berekent hoeveel huizen er zijn per bouwjaar klasse.</td>\n",
    "</tr>"
   ]
  },
  {
   "cell_type": "markdown",
   "metadata": {},
   "source": [
    "# Aanvullende informatie over de scripts"
   ]
  },
  {
   "cell_type": "markdown",
   "metadata": {},
   "source": [
    "## 1.0 Exoten status\n",
    "\n",
    "Ter voorbereiding van de data is dit script geschreven voor het omzetten van de exotenstatus (1, 2, 2a etc.) naar een versimpeld format (Exoot, inheems, onbekend). Dit script **moet** als eerst uitgevoerd worden anders kan script 1.1.2 niet worden gegroepeerd op basis van status en is de versimpelde status niet aanwezig in de outputs bij alle scripts."
   ]
  },
  {
   "cell_type": "markdown",
   "metadata": {},
   "source": [
    "## 1.1.1 Extractie rasterdata binnen buffers\n",
    "Om de invloed van landgebruik op de waarnemingen te onderzoeken is er data verzameld uit de raster kaart [Landelijk Grondgebruikbestand Nederland uit 2018 van de Wageningen Universiteit](https://www.wur.nl/nl/Onderzoek-Resultaten/Onderzoeksinstituten/Environmental-Research/Faciliteiten-tools/Kaarten-en-GIS-bestanden/Landelijk-Grondgebruik-Nederland/Versies-bestanden/LGN2018.htm). Deze kaart geeft, met een nauwkeurigheid van 5 bij 5 meter, aan wat het landgebruik over heel Nederland is. Met behulp van dit [script](./Scripts/1_1_1_BufferdataExtractieRasterData.ipynb) is rondom de locatie van iedere waarneming binnen een radius van 100 meter (verstelbaar) bekeken wat het landgebruik is volgens het eerder genoemd Landelijk Grondgebruikbestand Nederland. De output geeft het aandeel dat ieder landgebruik type inneemt binnen de buffer in procenten. Daarnaast bied het de mogelijkheid deze output te clusteren in vooraf gemaakte groepen.\n"
   ]
  },
  {
   "cell_type": "markdown",
   "metadata": {},
   "source": [
    "# 1.1.2 Samenvatting buffer extractie\n",
    "\n",
    "Dit [script](./Scripts/1_1_2_StatsPerGroup.ipynb) is gebruikt om een inzicht te krijgen uit de data verzameld uit bijlage \"1.1 Extractie rasterdata binnen buffers\". Hierbij wordt de kolom \"categorie\" (de groepering van alle landgebruik typen) uit de kaart legenda geraadpleegd. Vervolgens wordt de data samengevat op basis van verschillende groepen en worden statistische gegevens weergegeven zoals: gemiddelde, standaard afwijking, standaard fout en sample grootte. De output bestaat uit een excel bestand met een tabblad voor elke groep aangegeven bij de \"GroupBy\" variabele."
   ]
  },
  {
   "cell_type": "markdown",
   "metadata": {},
   "source": [
    "## 1.2.1 Extractie Attributendata uit Vectorlaag op basis van puntdata\n",
    "Om de invloed van populatiedichtheid en bouwjaar op de waarnemingen te onderzoeken zijn er data verzameld uit [Statistische gegevens per vierkant 2015]( https://www.cbs.nl/nl-nl/dossier/nederland-regionaal/geografische-data/kaart-van-100-meter-bij-100-meter-met-statistieken) (Populatie dichtheid) en uit [Basisregistratie Adressen en Gebouwen (BAG)]( https://www.digitaleoverheid.nl/overzicht-van-alle-onderwerpen/stelsel-van-basisregistraties/10-basisregistraties/bag/) (bouwjaar).\n",
    "\n",
    "'Statistische gegevens per vierkant 2015' bevat statistische gegevens van het CBS over demografie, wonen, energie, sociale zekerheid, dichtheid en nabijheid van voorzieningen gegeven in vakken van 100 bij 100 meter. De data zijn aangeleverd als attributen van een vector kaart. De data uit deze kaart laag zijn verzameld met een puntextractie [script](./Scripts/1_2_1_PuntExtractieAttributen.ipynb) wat berekend binnen welk polygoon een coördinaat valt en uit dit polygoon de aangegeven attributen kopieert.\n",
    "\n",
    "BAG is een dataset die informatie bevat over alle adressen en gebouwen in Nederland, zoals het bouwjaar. Deze gegevens worden door gemeenten centraal beschikbaar gesteld via de Landelijke Voorziening BAG (LV BAG). De data zijn aangeleverd in de vorm van een geodatabase met verschillende kaartlagen. Afgezien van de noodzaak om een specifieke kaartlaag te selecteren, is hetzelfde [script](./Scripts/1_2_1_PuntExtractieAttributen.ipynb) dat in de voorgaande alinea wordt toegepast, ook hier van toepassing.\n"
   ]
  },
  {
   "cell_type": "markdown",
   "metadata": {},
   "source": [
    "## 1.2.2 Klasse indeling bouwjaar\n",
    "\n",
    "Dit [script](./Scripts/1_2_2_KlasseIndelingBouwjaar.ipynb) is geschreven om verzamelde bouwjaardata op te delen in bouwjaar groepen. Het script genereert een nieuwe kolom in het input bestand waar op basis van opgegeven tijdspannen waardes 1 tot n worden toegewezen. \n",
    "\n",
    "\n",
    "\n"
   ]
  },
  {
   "cell_type": "markdown",
   "metadata": {},
   "source": [
    "## 1.2.3 Aantasters per bouwjaarklasse\n",
    "Dit [script](./Scripts/1_2_3_AantastersPerBouwjaarklasse.ipynb) is gebruikt om inzicht te krijgen over de verdeling van type aantasters binnen de verschillende Bouwjaar clusters. \n",
    "\n"
   ]
  },
  {
   "cell_type": "markdown",
   "metadata": {},
   "source": [
    "## 1.2.4 Extractie Totaal attributen data uit vectorlaag\n",
    "Voor de data analyse van de waarnemingen per huizen binnen een bouwjaar cluster is gewerkt met het aandeel huizen binnen een bouwjaar cluster. Hiervoor is met dit [script](.\\Scripts/1_2_4_AttributenSamenvattenVectorkaart.ipynb) bepaalt hoeveel huizen in Nederland binnen ieder bouwjaar cluster vallen volgens het [Basisregistratie Adressen en Gebouwen (BAG)]( https://www.digitaleoverheid.nl/overzicht-van-alle-onderwerpen/stelsel-van-basisregistraties/10-basisregistraties/bag/).\n",
    "\n",
    "**Dit script is doelmatig geschreven en mogelijk niet buiten het project/de dataset inzetbaar.**\n",
    "\n"
   ]
  }
 ],
 "metadata": {
  "kernelspec": {
   "display_name": ".IIH venv",
   "language": "python",
   "name": "python3"
  },
  "language_info": {
   "name": "python",
   "version": "3.9.12"
  }
 },
 "nbformat": 4,
 "nbformat_minor": 2
}
